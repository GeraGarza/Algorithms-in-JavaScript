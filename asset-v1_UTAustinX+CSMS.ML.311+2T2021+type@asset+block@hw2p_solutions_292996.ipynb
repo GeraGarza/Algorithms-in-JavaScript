{
 "cells": [
  {
   "cell_type": "code",
   "execution_count": 1,
   "metadata": {
    "colab": {},
    "colab_type": "code",
    "id": "1Rg2uSiFSRJe"
   },
   "outputs": [],
   "source": [
    "import numpy as np\n",
    "import matplotlib.pyplot as plt\n",
    "from sklearn.linear_model import LogisticRegression"
   ]
  },
  {
   "cell_type": "markdown",
   "metadata": {
    "colab_type": "text",
    "id": "oDTSO7-MSRJj"
   },
   "source": [
    "# Problem 1\n",
    "## Dataset Generation"
   ]
  },
  {
   "cell_type": "markdown",
   "metadata": {
    "colab_type": "text",
    "id": "Tx7KW28cSRJk"
   },
   "source": [
    "Write a function to **generate a training set** of size $m$\n",
    "- randomly generate a weight vector $w \\in \\mathbb{R}^{10}$, normalize length\n",
    "- generate a training set $\\{(x_i , y_i)\\}$ of size m\n",
    "  - $x_i$: random vector in $\\mathbb{R}^{10}$ from $\\textbf{N}(0, I)$\n",
    "  - $y_i$: $\\{0, +1\\}$ with $P[y = +1] = \\sigma(w \\cdot x_i)$ and $P[y = 0] = 1 - \\sigma(w \\cdot x_i)$"
   ]
  },
  {
   "cell_type": "code",
   "execution_count": 2,
   "metadata": {
    "colab": {},
    "colab_type": "code",
    "id": "AUHuXrsgSRJl"
   },
   "outputs": [],
   "source": [
    "def generate_data(m):\n",
    "    # generate weight vector\n",
    "    w_star = np.random.normal(size=(10,))\n",
    "    w_star /= np.linalg.norm(w_star)\n",
    "    \n",
    "    # training sample\n",
    "    X = np.zeros((m, 10))\n",
    "    Y = np.zeros((m,))\n",
    "    for i in range(m):\n",
    "        X[i, :] = np.random.normal(size=(10,))\n",
    "        prob = 1.0 / (1.0 + np.exp(-w_star.dot(X[i])))\n",
    "        Y[i] = np.random.choice([0.0, 1.0], p=[1-prob, prob])\n",
    "    return w_star, X, Y"
   ]
  },
  {
   "cell_type": "markdown",
   "metadata": {
    "colab_type": "text",
    "id": "wx2-15fASRJy"
   },
   "source": [
    "## Algorithm 1: logistic regression\n",
    "\n",
    "The goal is to learn $w$.  Algorithm 1 is logistic\n",
    "  regression (you may use the built-in method LogisticRegression for this. Use max_iter=1000)."
   ]
  },
  {
   "cell_type": "code",
   "execution_count": 21,
   "metadata": {
    "colab": {},
    "colab_type": "code",
    "id": "Vj8b21jgSRJz"
   },
   "outputs": [],
   "source": [
    "def log_reg(X, Y):\n",
    "    return LogisticRegression(max_iter=1000).fit(X, Y).coef_"
   ]
  },
  {
   "cell_type": "markdown",
   "metadata": {
    "colab_type": "text",
    "id": "YzmNdy6ZSRJ3"
   },
   "source": [
    "## Algorithm 2: gradient descent with square loss\n",
    "\n",
    "Define square loss as\n",
    "$$L_i(w^{(t)}) = \\frac{1}{2} \\left( \\sigma(w^{(t)} \\cdot x) - y_i \\right)^2$$\n",
    "\n",
    "  Algorithm 2 is\n",
    "  gradient descent with respect to square loss (code this\n",
    "  up yourself -- run for 1000 iterations, use step size eta = 0.01)."
   ]
  },
  {
   "cell_type": "markdown",
   "metadata": {},
   "source": [
    "## Algorithm 3: stochastic gradient descent with square loss\n",
    "Similar to gradient descent, except we use the gradient at a single random training point every iteration."
   ]
  },
  {
   "cell_type": "markdown",
   "metadata": {},
   "source": [
    "The gradient of the loss is given by $$ \\nabla_w L(w) = (\\sigma(w \\cdot x) - y) \\sigma'(w \\cdot x) x. $$ The derivative of the sigmoid function satisfies $$ \\sigma'(t) = \\frac{e^{-t}}{(1 + e^{-t})^2} = \\frac{1}{1 + e^{-t}} - \\frac{1}{(1 + e^{-t})^2} = \\sigma(t) - \\sigma(t)^2. $$ Denoting $\\sigma(w \\cdot x)$ by $\\hat{y}$, this means that one convenient way to simplify the gradient above is as follows: $$ \\nabla_w L(w) = (\\hat{y} - y)(1 - \\hat{y})\\hat{y} x. $$"
   ]
  },
  {
   "cell_type": "code",
   "execution_count": 20,
   "metadata": {
    "colab": {},
    "colab_type": "code",
    "id": "1NhZM6V3SRJ4"
   },
   "outputs": [],
   "source": [
    "def gradient(w, xi, yi):\n",
    "    yhat = 1.0 / (1.0 + np.exp(-w.dot(xi)))\n",
    "    return (yhat - yi) * yhat * (1 - yhat) * xi"
   ]
  },
  {
   "cell_type": "code",
   "execution_count": 18,
   "metadata": {},
   "outputs": [],
   "source": [
    "def gd(X, Y, n_iter=1000, eta=0.01):\n",
    "    w = np.zeros(X.shape[1])\n",
    "    for t in range(n_iter):\n",
    "        grad = np.mean([gradient(w, x, y) for x, y in zip(X, Y)], axis=0)\n",
    "        w = w - eta * grad\n",
    "    return w"
   ]
  },
  {
   "cell_type": "code",
   "execution_count": null,
   "metadata": {},
   "outputs": [],
   "source": [
    "def sgd(X, Y, n_iter=1000, eta=0.01):\n",
    "    w = np.zeros(X.shape[1])\n",
    "    for t in range(n_iter):\n",
    "        i = np.random.randint(X.shape[0])\n",
    "        w = w - eta * gradient(w, X[i], Y[i])\n",
    "    return w"
   ]
  },
  {
   "cell_type": "markdown",
   "metadata": {
    "colab_type": "text",
    "id": "5A-dLi3TSRJ-"
   },
   "source": [
    "## Evaluation\n",
    "\n",
    "Measure error $\\|w - \\hat{w}\\|_2$ for each method at different sample size. For any\n",
    "  fixed value of $m$, choose many different $w$'s and average the\n",
    "  values $\\|w - \n",
    "  \\hat{w}\\|_2$ for Algorithms 1, 2 and 3.  Plot the results\n",
    "  for for each algorithm as you make $m$ large (use $m=50, 100, 150, 200, 250$).\n",
    "  Also record, for each algorithm, the time taken to run the overall experiment."
   ]
  },
  {
   "cell_type": "code",
   "execution_count": 87,
   "metadata": {},
   "outputs": [],
   "source": [
    "ms = [50, 100, 150, 200, 250]\n",
    "\n",
    "def run_trials(model, num_trials=10):\n",
    "    errs = []\n",
    "    for m in ms:\n",
    "        trial_errs = []\n",
    "        for _ in range(num_trials):\n",
    "            w, X, Y = generate_data(m)\n",
    "            w_hat = model(X, Y)\n",
    "            trial_errs.append(np.linalg.norm(w - w_hat))\n",
    "        errs.append(np.mean(trial_errs))\n",
    "    return errs"
   ]
  },
  {
   "cell_type": "code",
   "execution_count": null,
   "metadata": {},
   "outputs": [],
   "source": [
    "%%time\n",
    "logreg_errs = run_trials(log_reg)"
   ]
  },
  {
   "cell_type": "code",
   "execution_count": 24,
   "metadata": {},
   "outputs": [
    {
     "name": "stdout",
     "output_type": "stream",
     "text": [
      "CPU times: user 1.99 s, sys: 18.6 ms, total: 2.01 s\n",
      "Wall time: 2.1 s\n"
     ]
    }
   ],
   "source": [
    "%%time\n",
    "gd_errs = run_trials(gd)"
   ]
  },
  {
   "cell_type": "code",
   "execution_count": 25,
   "metadata": {},
   "outputs": [
    {
     "name": "stdout",
     "output_type": "stream",
     "text": [
      "CPU times: user 1min 1s, sys: 590 ms, total: 1min 1s\n",
      "Wall time: 1min 9s\n"
     ]
    }
   ],
   "source": [
    "%%time\n",
    "sgd_errs = run_trials(sgd)"
   ]
  },
  {
   "cell_type": "markdown",
   "metadata": {},
   "source": [
    "(It is worth noting that true GD takes much longer than either SGD or logistic regression.)"
   ]
  },
  {
   "cell_type": "code",
   "execution_count": 23,
   "metadata": {},
   "outputs": [
    {
     "data": {
      "image/png": "[encoded data removed]",
      "text/plain": [
       "<Figure size 432x288 with 1 Axes>"
      ]
     },
     "metadata": {
      "needs_background": "light"
     },
     "output_type": "display_data"
    }
   ],
   "source": [
    "plt.plot(ms, sgd_errs, label='SGD')\n",
    "plt.plot(ms, gd_errs, label='GD')\n",
    "plt.plot(ms, logreg_errs, label='Logistic regression')\n",
    "plt.xlabel('sample size $m$')\n",
    "plt.ylabel('error ($\\|w - \\hat{w}\\|$)')\n",
    "plt.legend()\n",
    "plt.show()"
   ]
  },
  {
   "cell_type": "markdown",
   "metadata": {
    "colab_type": "text",
    "id": "2JhOlgFTnRRq"
   },
   "source": [
    "**PEER GRADERS TAKE NOTE**: The plot may differ slightly due to randomness, but logistic regression should perform better than SGD when the sample size is large. You should also observe that SGD and GD have similar performance, but that SGD runs much faster than GD."
   ]
  },
  {
   "cell_type": "code",
   "execution_count": 26,
   "metadata": {},
   "outputs": [
    {
     "data": {
      "image/png": "[encoded data removed]",
      "text/plain": [
       "<Figure size 432x288 with 1 Axes>"
      ]
     },
     "metadata": {
      "needs_background": "light"
     },
     "output_type": "display_data"
    }
   ],
   "source": [
    "plt.plot(ms, sgd_errs, label='SGD')\n",
    "plt.plot(ms, gd_errs, label='GD')\n",
    "plt.plot(ms, logreg_errs, label='Logistic regression')\n",
    "plt.xlabel('sample size $m$')\n",
    "plt.ylabel('error ($\\|w - \\hat{w}\\|$)')\n",
    "plt.legend()\n",
    "plt.show()"
   ]
  },
  {
   "cell_type": "markdown",
   "metadata": {},
   "source": [
    "# Problem 2"
   ]
  },
  {
   "cell_type": "code",
   "execution_count": 27,
   "metadata": {},
   "outputs": [],
   "source": [
    "from sklearn import datasets\n",
    "from sklearn.ensemble import AdaBoostClassifier\n",
    "from sklearn.tree import DecisionTreeClassifier\n",
    "from sklearn.model_selection import cross_val_score"
   ]
  },
  {
   "cell_type": "code",
   "execution_count": 88,
   "metadata": {},
   "outputs": [],
   "source": [
    "cancer = datasets.load_breast_cancer()"
   ]
  },
  {
   "cell_type": "markdown",
   "metadata": {},
   "source": [
    "For each depth in $1, \\dots, 5$, instantiate an AdaBoost classifier with the base learner set to be a decision tree of that depth, and then record the 10-fold cross-validated error on the entire breast cancer data set. Plot the resulting curve of accuracy against base classifier depth. Use $101$ as your random state for both the base learner as well as the AdaBoost classifier every time."
   ]
  },
  {
   "cell_type": "code",
   "execution_count": 85,
   "metadata": {},
   "outputs": [],
   "source": [
    "accuracy = []\n",
    "for depth in range(1, 6):\n",
    "    dt = DecisionTreeClassifier(max_depth=depth, random_state=101)\n",
    "    ada = AdaBoostClassifier(base_estimator=dt, n_estimators=10, learning_rate=1, random_state=101)\n",
    "    accuracy.append(np.mean(cross_val_score(ada, cancer.data, cancer.target, cv=10)))"
   ]
  },
  {
   "cell_type": "code",
   "execution_count": 86,
   "metadata": {},
   "outputs": [
    {
     "data": {
      "text/plain": [
       "Text(0, 0.5, 'accuracy')"
      ]
     },
     "execution_count": 86,
     "metadata": {},
     "output_type": "execute_result"
    },
    {
     "data": {
      "image/png": "[encoded data removed]",
      "text/plain": [
       "<Figure size 432x288 with 1 Axes>"
      ]
     },
     "metadata": {
      "needs_background": "light"
     },
     "output_type": "display_data"
    }
   ],
   "source": [
    "plt.plot(range(1, 6), accuracy)\n",
    "plt.xlabel('base dt depth')\n",
    "plt.ylabel('accuracy')"
   ]
  },
  {
   "cell_type": "code",
   "execution_count": null,
   "metadata": {},
   "outputs": [],
   "source": []
  }
 ],
 "metadata": {
  "colab": {
   "name": "hw2_programming_sol.ipynb",
   "provenance": [],
   "version": "0.3.2"
  },
  "kernelspec": {
   "display_name": "Python 3",
   "language": "python",
   "name": "python3"
  },
  "language_info": {
   "codemirror_mode": {
    "name": "ipython",
    "version": 3
   },
   "file_extension": ".py",
   "mimetype": "text/x-python",
   "name": "python",
   "nbconvert_exporter": "python",
   "pygments_lexer": "ipython3",
   "version": "3.7.3"
  }
 },
 "nbformat": 4,
 "nbformat_minor": 1
}
